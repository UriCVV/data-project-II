{
 "cells": [
  {
   "cell_type": "markdown",
   "metadata": {},
   "source": [
    "# Tobaco comsumption per countries"
   ]
  },
  {
   "cell_type": "markdown",
   "metadata": {},
   "source": [
    "### Hipotesis and exploration"
   ]
  },
  {
   "cell_type": "markdown",
   "metadata": {},
   "source": [
    "Data source: IHME, Global Burden of Disease (2019)\n",
    "\n",
    "OurWorldInData.org/smoking | CC BY"
   ]
  },
  {
   "cell_type": "code",
   "execution_count": 275,
   "metadata": {},
   "outputs": [],
   "source": [
    "import pandas as pd\n",
    "import requests\n",
    "import getpass\n",
    "import numpy as np\n",
    "import re\n",
    "from selenium import webdriver\n",
    "from selenium.webdriver.common.by import By\n",
    "from selenium.webdriver.support.ui import WebDriverWait\n",
    "from selenium.webdriver.support import expected_conditions as EC"
   ]
  },
  {
   "cell_type": "code",
   "execution_count": 276,
   "metadata": {},
   "outputs": [],
   "source": [
    "year = \"2018\""
   ]
  },
  {
   "cell_type": "code",
   "execution_count": 277,
   "metadata": {},
   "outputs": [
    {
     "data": {
      "text/html": [
       "<div>\n",
       "<style scoped>\n",
       "    .dataframe tbody tr th:only-of-type {\n",
       "        vertical-align: middle;\n",
       "    }\n",
       "\n",
       "    .dataframe tbody tr th {\n",
       "        vertical-align: top;\n",
       "    }\n",
       "\n",
       "    .dataframe thead th {\n",
       "        text-align: right;\n",
       "    }\n",
       "</style>\n",
       "<table border=\"1\" class=\"dataframe\">\n",
       "  <thead>\n",
       "    <tr style=\"text-align: right;\">\n",
       "      <th></th>\n",
       "      <th>Location</th>\n",
       "      <th>CigaretteSmokingPrevalence</th>\n",
       "      <th>TobaccoSmokingPrevalence</th>\n",
       "      <th>TobaccoUsePrevalance</th>\n",
       "      <th>HealyWarningsOnSmoking</th>\n",
       "      <th>CheapestBrandCigaretteCurrency</th>\n",
       "      <th>MostSoldBrandCigaretteCurrency</th>\n",
       "      <th>MostSoldBrandCigarettePrice</th>\n",
       "      <th>PremiumBrandCigarettePrice</th>\n",
       "      <th>TreatmentInHealthFacilities</th>\n",
       "      <th>BanOnEducationalFacilites</th>\n",
       "      <th>BanOnGovernmentFacilites</th>\n",
       "      <th>BanOnHealthcareFacilites</th>\n",
       "      <th>BanOnIndoorOffices</th>\n",
       "      <th>BanOnPublicTransport</th>\n",
       "      <th>BanOnPubsAndBars</th>\n",
       "      <th>BanOnRestaurants</th>\n",
       "      <th>BanOnUniversities</th>\n",
       "      <th>RegulationsOnSmokeFreeEnvironments</th>\n",
       "    </tr>\n",
       "  </thead>\n",
       "  <tbody>\n",
       "    <tr>\n",
       "      <th>135</th>\n",
       "      <td>Turkey</td>\n",
       "      <td>27.2 [21.7 – 33]</td>\n",
       "      <td>29.3 [23.7 – 35.1]</td>\n",
       "      <td>29.3 [23.7 – 35.1]</td>\n",
       "      <td>No</td>\n",
       "      <td>7.5</td>\n",
       "      <td>TRY</td>\n",
       "      <td>13.5</td>\n",
       "      <td>13.5</td>\n",
       "      <td>Yes in some</td>\n",
       "      <td>NaN</td>\n",
       "      <td>NaN</td>\n",
       "      <td>NaN</td>\n",
       "      <td>NaN</td>\n",
       "      <td>NaN</td>\n",
       "      <td>NaN</td>\n",
       "      <td>NaN</td>\n",
       "      <td>NaN</td>\n",
       "      <td>NaN</td>\n",
       "    </tr>\n",
       "  </tbody>\n",
       "</table>\n",
       "</div>"
      ],
      "text/plain": [
       "    Location CigaretteSmokingPrevalence TobaccoSmokingPrevalence  \\\n",
       "135   Turkey           27.2 [21.7 – 33]       29.3 [23.7 – 35.1]   \n",
       "\n",
       "    TobaccoUsePrevalance HealyWarningsOnSmoking  \\\n",
       "135   29.3 [23.7 – 35.1]                     No   \n",
       "\n",
       "    CheapestBrandCigaretteCurrency MostSoldBrandCigaretteCurrency  \\\n",
       "135                            7.5                            TRY   \n",
       "\n",
       "    MostSoldBrandCigarettePrice PremiumBrandCigarettePrice  \\\n",
       "135                        13.5                       13.5   \n",
       "\n",
       "    TreatmentInHealthFacilities  BanOnEducationalFacilites  \\\n",
       "135                 Yes in some                        NaN   \n",
       "\n",
       "     BanOnGovernmentFacilites  BanOnHealthcareFacilites  BanOnIndoorOffices  \\\n",
       "135                       NaN                       NaN                 NaN   \n",
       "\n",
       "     BanOnPublicTransport  BanOnPubsAndBars  BanOnRestaurants  \\\n",
       "135                   NaN               NaN               NaN   \n",
       "\n",
       "     BanOnUniversities  RegulationsOnSmokeFreeEnvironments  \n",
       "135                NaN                                 NaN  "
      ]
     },
     "execution_count": 277,
     "metadata": {},
     "output_type": "execute_result"
    }
   ],
   "source": [
    "df_18 = pd.read_csv(f\"../data/SmokingAndTobaccoData{year}.csv\")\n",
    "df_18.sample()"
   ]
  },
  {
   "cell_type": "code",
   "execution_count": 278,
   "metadata": {},
   "outputs": [
    {
     "data": {
      "text/plain": [
       "Location                               object\n",
       "CigaretteSmokingPrevalence             object\n",
       "TobaccoSmokingPrevalence               object\n",
       "TobaccoUsePrevalance                   object\n",
       "HealyWarningsOnSmoking                 object\n",
       "CheapestBrandCigaretteCurrency         object\n",
       "MostSoldBrandCigaretteCurrency         object\n",
       "MostSoldBrandCigarettePrice            object\n",
       "PremiumBrandCigarettePrice             object\n",
       "TreatmentInHealthFacilities            object\n",
       "BanOnEducationalFacilites             float64\n",
       "BanOnGovernmentFacilites              float64\n",
       "BanOnHealthcareFacilites              float64\n",
       "BanOnIndoorOffices                    float64\n",
       "BanOnPublicTransport                  float64\n",
       "BanOnPubsAndBars                      float64\n",
       "BanOnRestaurants                      float64\n",
       "BanOnUniversities                     float64\n",
       "RegulationsOnSmokeFreeEnvironments    float64\n",
       "dtype: object"
      ]
     },
     "execution_count": 278,
     "metadata": {},
     "output_type": "execute_result"
    }
   ],
   "source": [
    "df_18.dtypes"
   ]
  },
  {
   "cell_type": "code",
   "execution_count": 282,
   "metadata": {},
   "outputs": [
    {
     "name": "stdout",
     "output_type": "stream",
     "text": [
      "['No' 'Not applicable' 'Yes']\n",
      "['Yes in some' 'No' 'Yes in most']\n"
     ]
    }
   ],
   "source": [
    "print(df_18[\"HealyWarningsOnSmoking\"].unique())\n",
    "print(df_18[\"TreatmentInHealthFacilities\"].unique())"
   ]
  },
  {
   "cell_type": "code",
   "execution_count": 273,
   "metadata": {},
   "outputs": [],
   "source": [
    "# drop non useful columns for the study\n",
    "df_18 = df_18.drop(columns=[\"CheapestBrandCigaretteCurrency\", \"BanOnEducationalFacilites\", \"PremiumBrandCigarettePrice\",\t\"BanOnGovernmentFacilites\",\t\"BanOnHealthcareFacilites\",\t\"BanOnIndoorOffices\",\t\"BanOnPublicTransport\",\t\"BanOnPubsAndBars\",\t\"BanOnRestaurants\",\t\"BanOnUniversities\",\t\"RegulationsOnSmokeFreeEnvironments\"])"
   ]
  },
  {
   "cell_type": "code",
   "execution_count": null,
   "metadata": {},
   "outputs": [],
   "source": [
    "# Change column name\n",
    "df_18 = df_18.rename(columns={'Location': 'Country'})"
   ]
  },
  {
   "cell_type": "code",
   "execution_count": null,
   "metadata": {},
   "outputs": [],
   "source": [
    "# Make numeric\n",
    "df_18[\"MostSoldBrandCigarettePrice\"] = pd.to_numeric(df_18[\"MostSoldBrandCigarettePrice\"], errors='coerce')"
   ]
  },
  {
   "cell_type": "code",
   "execution_count": null,
   "metadata": {},
   "outputs": [
    {
     "data": {
      "text/plain": [
       "Country                            object\n",
       "CigaretteSmokingPrevalence         object\n",
       "TobaccoSmokingPrevalence           object\n",
       "TobaccoUsePrevalance               object\n",
       "HealyWarningsOnSmoking             object\n",
       "MostSoldBrandCigaretteCurrency     object\n",
       "MostSoldBrandCigarettePrice       float64\n",
       "TreatmentInHealthFacilities        object\n",
       "dtype: object"
      ]
     },
     "execution_count": 249,
     "metadata": {},
     "output_type": "execute_result"
    }
   ],
   "source": [
    "df_18.dtypes"
   ]
  },
  {
   "cell_type": "code",
   "execution_count": null,
   "metadata": {},
   "outputs": [],
   "source": [
    "api_key = getpass.getpass(\"Enter your token: \")"
   ]
  },
  {
   "cell_type": "code",
   "execution_count": null,
   "metadata": {},
   "outputs": [],
   "source": [
    "def currency_conversion(currency, amount):\n",
    "    base_url = f\"https://api.currencyapi.com/v3/convert?apikey={api_key}\"\n",
    "    endpoint = f\"&date={year}-06-01&base_currency={currency}&currencies=USD&value={amount}\"\n",
    "    url_for_request = base_url + endpoint\n",
    "    res = requests.get(url_for_request)\n",
    "    \n",
    "    try:\n",
    "        result = round(res.json()[\"data\"][\"USD\"][\"value\"], 2)\n",
    "\n",
    "        return result\n",
    "    except :\n",
    "        print(f\"couldn't convert from {currency}, {url_for_request}\")\n",
    "        print(res.content)\n",
    "        return np.nan"
   ]
  },
  {
   "cell_type": "code",
   "execution_count": null,
   "metadata": {},
   "outputs": [
    {
     "name": "stdout",
     "output_type": "stream",
     "text": [
      "couldn't convert from All, https://api.currencyapi.com/v3/convert?apikey=cur_live_AmzxX9c02B3yUdYzXJsBJgAQz5tBiGjcEQRIfTSm&date=2018-06-01&base_currency=All&currencies=USD&value=240.0\n",
      "b'{\"message\":\"Validation error\",\"errors\":{\"base_currency\":[\"The selected base currency is invalid.\"]},\"info\":\"For more information, see documentation: https:\\\\/\\\\/currencyapi.com\\\\/docs\\\\/status-codes#_422\"}'\n",
      "couldn't convert from Data not available, https://api.currencyapi.com/v3/convert?apikey=cur_live_AmzxX9c02B3yUdYzXJsBJgAQz5tBiGjcEQRIfTSm&date=2018-06-01&base_currency=Data not available&currencies=USD&value=nan\n",
      "b'{\"message\":\"Validation error\",\"errors\":{\"base_currency\":[\"The selected base currency is invalid.\"],\"value\":[\"The value must be a number.\",\"The value must be greater than 0.\"]},\"info\":\"For more information, see documentation: https:\\\\/\\\\/currencyapi.com\\\\/docs\\\\/status-codes#_422\"}'\n",
      "couldn't convert from Not applicable, https://api.currencyapi.com/v3/convert?apikey=cur_live_AmzxX9c02B3yUdYzXJsBJgAQz5tBiGjcEQRIfTSm&date=2018-06-01&base_currency=Not applicable&currencies=USD&value=nan\n",
      "b'{\"message\":\"Validation error\",\"errors\":{\"base_currency\":[\"The selected base currency is invalid.\"],\"value\":[\"The value must be a number.\",\"The value must be greater than 0.\"]},\"info\":\"For more information, see documentation: https:\\\\/\\\\/currencyapi.com\\\\/docs\\\\/status-codes#_422\"}'\n",
      "couldn't convert from BIF, https://api.currencyapi.com/v3/convert?apikey=cur_live_AmzxX9c02B3yUdYzXJsBJgAQz5tBiGjcEQRIfTSm&date=2018-06-01&base_currency=BIF&currencies=USD&value=nan\n",
      "b'{\"message\":\"Validation error\",\"errors\":{\"value\":[\"The value must be a number.\",\"The value must be greater than 0.\"]},\"info\":\"For more information, see documentation: https:\\\\/\\\\/currencyapi.com\\\\/docs\\\\/status-codes#_422\"}'\n",
      "couldn't convert from KHR, https://api.currencyapi.com/v3/convert?apikey=cur_live_AmzxX9c02B3yUdYzXJsBJgAQz5tBiGjcEQRIfTSm&date=2018-06-01&base_currency=KHR&currencies=USD&value=nan\n",
      "b'{\"message\":\"Validation error\",\"errors\":{\"value\":[\"The value must be a number.\",\"The value must be greater than 0.\"]},\"info\":\"For more information, see documentation: https:\\\\/\\\\/currencyapi.com\\\\/docs\\\\/status-codes#_422\"}'\n",
      "couldn't convert from XAF, https://api.currencyapi.com/v3/convert?apikey=cur_live_AmzxX9c02B3yUdYzXJsBJgAQz5tBiGjcEQRIfTSm&date=2018-06-01&base_currency=XAF&currencies=USD&value=nan\n",
      "b'{\"message\":\"Validation error\",\"errors\":{\"value\":[\"The value must be a number.\",\"The value must be greater than 0.\"]},\"info\":\"For more information, see documentation: https:\\\\/\\\\/currencyapi.com\\\\/docs\\\\/status-codes#_422\"}'\n",
      "couldn't convert from CLP, https://api.currencyapi.com/v3/convert?apikey=cur_live_AmzxX9c02B3yUdYzXJsBJgAQz5tBiGjcEQRIfTSm&date=2018-06-01&base_currency=CLP&currencies=USD&value=nan\n",
      "b'{\"message\":\"Validation error\",\"errors\":{\"value\":[\"The value must be a number.\",\"The value must be greater than 0.\"]},\"info\":\"For more information, see documentation: https:\\\\/\\\\/currencyapi.com\\\\/docs\\\\/status-codes#_422\"}'\n",
      "couldn't convert from COP, https://api.currencyapi.com/v3/convert?apikey=cur_live_AmzxX9c02B3yUdYzXJsBJgAQz5tBiGjcEQRIfTSm&date=2018-06-01&base_currency=COP&currencies=USD&value=nan\n",
      "b'{\"message\":\"Validation error\",\"errors\":{\"value\":[\"The value must be a number.\",\"The value must be greater than 0.\"]},\"info\":\"For more information, see documentation: https:\\\\/\\\\/currencyapi.com\\\\/docs\\\\/status-codes#_422\"}'\n",
      "couldn't convert from CRC, https://api.currencyapi.com/v3/convert?apikey=cur_live_AmzxX9c02B3yUdYzXJsBJgAQz5tBiGjcEQRIfTSm&date=2018-06-01&base_currency=CRC&currencies=USD&value=nan\n",
      "b'{\"message\":\"Validation error\",\"errors\":{\"value\":[\"The value must be a number.\",\"The value must be greater than 0.\"]},\"info\":\"For more information, see documentation: https:\\\\/\\\\/currencyapi.com\\\\/docs\\\\/status-codes#_422\"}'\n",
      "couldn't convert from Data not available, https://api.currencyapi.com/v3/convert?apikey=cur_live_AmzxX9c02B3yUdYzXJsBJgAQz5tBiGjcEQRIfTSm&date=2018-06-01&base_currency=Data not available&currencies=USD&value=nan\n",
      "b'{\"message\":\"Validation error\",\"errors\":{\"base_currency\":[\"The selected base currency is invalid.\"],\"value\":[\"The value must be a number.\",\"The value must be greater than 0.\"]},\"info\":\"For more information, see documentation: https:\\\\/\\\\/currencyapi.com\\\\/docs\\\\/status-codes#_422\"}'\n",
      "couldn't convert from HUF, https://api.currencyapi.com/v3/convert?apikey=cur_live_AmzxX9c02B3yUdYzXJsBJgAQz5tBiGjcEQRIfTSm&date=2018-06-01&base_currency=HUF&currencies=USD&value=nan\n",
      "b'{\"message\":\"Validation error\",\"errors\":{\"value\":[\"The value must be a number.\",\"The value must be greater than 0.\"]},\"info\":\"For more information, see documentation: https:\\\\/\\\\/currencyapi.com\\\\/docs\\\\/status-codes#_422\"}'\n",
      "couldn't convert from ISK, https://api.currencyapi.com/v3/convert?apikey=cur_live_AmzxX9c02B3yUdYzXJsBJgAQz5tBiGjcEQRIfTSm&date=2018-06-01&base_currency=ISK&currencies=USD&value=nan\n",
      "b'{\"message\":\"Validation error\",\"errors\":{\"value\":[\"The value must be a number.\",\"The value must be greater than 0.\"]},\"info\":\"For more information, see documentation: https:\\\\/\\\\/currencyapi.com\\\\/docs\\\\/status-codes#_422\"}'\n",
      "couldn't convert from IDR, https://api.currencyapi.com/v3/convert?apikey=cur_live_AmzxX9c02B3yUdYzXJsBJgAQz5tBiGjcEQRIfTSm&date=2018-06-01&base_currency=IDR&currencies=USD&value=nan\n",
      "b'{\"message\":\"Validation error\",\"errors\":{\"value\":[\"The value must be a number.\",\"The value must be greater than 0.\"]},\"info\":\"For more information, see documentation: https:\\\\/\\\\/currencyapi.com\\\\/docs\\\\/status-codes#_422\"}'\n",
      "couldn't convert from IRR, https://api.currencyapi.com/v3/convert?apikey=cur_live_AmzxX9c02B3yUdYzXJsBJgAQz5tBiGjcEQRIfTSm&date=2018-06-01&base_currency=IRR&currencies=USD&value=nan\n",
      "b'{\"message\":\"Validation error\",\"errors\":{\"value\":[\"The value must be a number.\",\"The value must be greater than 0.\"]},\"info\":\"For more information, see documentation: https:\\\\/\\\\/currencyapi.com\\\\/docs\\\\/status-codes#_422\"}'\n",
      "couldn't convert from JMD, https://api.currencyapi.com/v3/convert?apikey=cur_live_AmzxX9c02B3yUdYzXJsBJgAQz5tBiGjcEQRIfTSm&date=2018-06-01&base_currency=JMD&currencies=USD&value=nan\n",
      "b'{\"message\":\"Validation error\",\"errors\":{\"value\":[\"The value must be a number.\",\"The value must be greater than 0.\"]},\"info\":\"For more information, see documentation: https:\\\\/\\\\/currencyapi.com\\\\/docs\\\\/status-codes#_422\"}'\n",
      "couldn't convert from LAK, https://api.currencyapi.com/v3/convert?apikey=cur_live_AmzxX9c02B3yUdYzXJsBJgAQz5tBiGjcEQRIfTSm&date=2018-06-01&base_currency=LAK&currencies=USD&value=nan\n",
      "b'{\"message\":\"Validation error\",\"errors\":{\"value\":[\"The value must be a number.\",\"The value must be greater than 0.\"]},\"info\":\"For more information, see documentation: https:\\\\/\\\\/currencyapi.com\\\\/docs\\\\/status-codes#_422\"}'\n",
      "couldn't convert from LBP, https://api.currencyapi.com/v3/convert?apikey=cur_live_AmzxX9c02B3yUdYzXJsBJgAQz5tBiGjcEQRIfTSm&date=2018-06-01&base_currency=LBP&currencies=USD&value=nan\n",
      "b'{\"message\":\"Validation error\",\"errors\":{\"value\":[\"The value must be a number.\",\"The value must be greater than 0.\"]},\"info\":\"For more information, see documentation: https:\\\\/\\\\/currencyapi.com\\\\/docs\\\\/status-codes#_422\"}'\n",
      "couldn't convert from MGA, https://api.currencyapi.com/v3/convert?apikey=cur_live_AmzxX9c02B3yUdYzXJsBJgAQz5tBiGjcEQRIfTSm&date=2018-06-01&base_currency=MGA&currencies=USD&value=nan\n",
      "b'{\"message\":\"Validation error\",\"errors\":{\"value\":[\"The value must be a number.\",\"The value must be greater than 0.\"]},\"info\":\"For more information, see documentation: https:\\\\/\\\\/currencyapi.com\\\\/docs\\\\/status-codes#_422\"}'\n",
      "couldn't convert from Data not available, https://api.currencyapi.com/v3/convert?apikey=cur_live_AmzxX9c02B3yUdYzXJsBJgAQz5tBiGjcEQRIfTSm&date=2018-06-01&base_currency=Data not available&currencies=USD&value=nan\n",
      "b'{\"message\":\"Validation error\",\"errors\":{\"base_currency\":[\"The selected base currency is invalid.\"],\"value\":[\"The value must be a number.\",\"The value must be greater than 0.\"]},\"info\":\"For more information, see documentation: https:\\\\/\\\\/currencyapi.com\\\\/docs\\\\/status-codes#_422\"}'\n",
      "couldn't convert from MNT, https://api.currencyapi.com/v3/convert?apikey=cur_live_AmzxX9c02B3yUdYzXJsBJgAQz5tBiGjcEQRIfTSm&date=2018-06-01&base_currency=MNT&currencies=USD&value=nan\n",
      "b'{\"message\":\"Validation error\",\"errors\":{\"value\":[\"The value must be a number.\",\"The value must be greater than 0.\"]},\"info\":\"For more information, see documentation: https:\\\\/\\\\/currencyapi.com\\\\/docs\\\\/status-codes#_422\"}'\n",
      "couldn't convert from PYG, https://api.currencyapi.com/v3/convert?apikey=cur_live_AmzxX9c02B3yUdYzXJsBJgAQz5tBiGjcEQRIfTSm&date=2018-06-01&base_currency=PYG&currencies=USD&value=nan\n",
      "b'{\"message\":\"Validation error\",\"errors\":{\"value\":[\"The value must be a number.\",\"The value must be greater than 0.\"]},\"info\":\"For more information, see documentation: https:\\\\/\\\\/currencyapi.com\\\\/docs\\\\/status-codes#_422\"}'\n",
      "couldn't convert from KRW, https://api.currencyapi.com/v3/convert?apikey=cur_live_AmzxX9c02B3yUdYzXJsBJgAQz5tBiGjcEQRIfTSm&date=2018-06-01&base_currency=KRW&currencies=USD&value=nan\n",
      "b'{\"message\":\"Validation error\",\"errors\":{\"value\":[\"The value must be a number.\",\"The value must be greater than 0.\"]},\"info\":\"For more information, see documentation: https:\\\\/\\\\/currencyapi.com\\\\/docs\\\\/status-codes#_422\"}'\n",
      "couldn't convert from STN, https://api.currencyapi.com/v3/convert?apikey=cur_live_AmzxX9c02B3yUdYzXJsBJgAQz5tBiGjcEQRIfTSm&date=2018-06-01&base_currency=STN&currencies=USD&value=25.0\n",
      "b'{\"message\":\"Validation error\",\"errors\":{\"base_currency\":[\"The selected base currency is invalid.\"]},\"info\":\"For more information, see documentation: https:\\\\/\\\\/currencyapi.com\\\\/docs\\\\/status-codes#_422\"}'\n",
      "couldn't convert from SLL, https://api.currencyapi.com/v3/convert?apikey=cur_live_AmzxX9c02B3yUdYzXJsBJgAQz5tBiGjcEQRIfTSm&date=2018-06-01&base_currency=SLL&currencies=USD&value=nan\n",
      "b'{\"message\":\"Validation error\",\"errors\":{\"value\":[\"The value must be a number.\",\"The value must be greater than 0.\"]},\"info\":\"For more information, see documentation: https:\\\\/\\\\/currencyapi.com\\\\/docs\\\\/status-codes#_422\"}'\n",
      "couldn't convert from LKR, https://api.currencyapi.com/v3/convert?apikey=cur_live_AmzxX9c02B3yUdYzXJsBJgAQz5tBiGjcEQRIfTSm&date=2018-06-01&base_currency=LKR&currencies=USD&value=nan\n",
      "b'{\"message\":\"Validation error\",\"errors\":{\"value\":[\"The value must be a number.\",\"The value must be greater than 0.\"]},\"info\":\"For more information, see documentation: https:\\\\/\\\\/currencyapi.com\\\\/docs\\\\/status-codes#_422\"}'\n",
      "couldn't convert from UGX, https://api.currencyapi.com/v3/convert?apikey=cur_live_AmzxX9c02B3yUdYzXJsBJgAQz5tBiGjcEQRIfTSm&date=2018-06-01&base_currency=UGX&currencies=USD&value=nan\n",
      "b'{\"message\":\"Validation error\",\"errors\":{\"value\":[\"The value must be a number.\",\"The value must be greater than 0.\"]},\"info\":\"For more information, see documentation: https:\\\\/\\\\/currencyapi.com\\\\/docs\\\\/status-codes#_422\"}'\n",
      "couldn't convert from TZS, https://api.currencyapi.com/v3/convert?apikey=cur_live_AmzxX9c02B3yUdYzXJsBJgAQz5tBiGjcEQRIfTSm&date=2018-06-01&base_currency=TZS&currencies=USD&value=nan\n",
      "b'{\"message\":\"Validation error\",\"errors\":{\"value\":[\"The value must be a number.\",\"The value must be greater than 0.\"]},\"info\":\"For more information, see documentation: https:\\\\/\\\\/currencyapi.com\\\\/docs\\\\/status-codes#_422\"}'\n",
      "couldn't convert from UZS, https://api.currencyapi.com/v3/convert?apikey=cur_live_AmzxX9c02B3yUdYzXJsBJgAQz5tBiGjcEQRIfTSm&date=2018-06-01&base_currency=UZS&currencies=USD&value=nan\n",
      "b'{\"message\":\"Validation error\",\"errors\":{\"value\":[\"The value must be a number.\",\"The value must be greater than 0.\"]},\"info\":\"For more information, see documentation: https:\\\\/\\\\/currencyapi.com\\\\/docs\\\\/status-codes#_422\"}'\n"
     ]
    }
   ],
   "source": [
    "df_18[\"MostSoldBrandCigarettePriceInUSD\"] = df_18.apply(lambda x: currency_conversion(x[\"MostSoldBrandCigaretteCurrency\"], x[\"MostSoldBrandCigarettePrice\"]), axis=1)"
   ]
  },
  {
   "cell_type": "code",
   "execution_count": null,
   "metadata": {},
   "outputs": [
    {
     "data": {
      "text/html": [
       "<div>\n",
       "<style scoped>\n",
       "    .dataframe tbody tr th:only-of-type {\n",
       "        vertical-align: middle;\n",
       "    }\n",
       "\n",
       "    .dataframe tbody tr th {\n",
       "        vertical-align: top;\n",
       "    }\n",
       "\n",
       "    .dataframe thead th {\n",
       "        text-align: right;\n",
       "    }\n",
       "</style>\n",
       "<table border=\"1\" class=\"dataframe\">\n",
       "  <thead>\n",
       "    <tr style=\"text-align: right;\">\n",
       "      <th></th>\n",
       "      <th>Country</th>\n",
       "      <th>CigaretteSmokingPrevalence</th>\n",
       "      <th>TobaccoSmokingPrevalence</th>\n",
       "      <th>TobaccoUsePrevalance</th>\n",
       "      <th>HealyWarningsOnSmoking</th>\n",
       "      <th>MostSoldBrandCigaretteCurrency</th>\n",
       "      <th>MostSoldBrandCigarettePrice</th>\n",
       "      <th>TreatmentInHealthFacilities</th>\n",
       "      <th>MostSoldBrandCigarettePriceInUSD</th>\n",
       "    </tr>\n",
       "  </thead>\n",
       "  <tbody>\n",
       "    <tr>\n",
       "      <th>7</th>\n",
       "      <td>Azerbaijan</td>\n",
       "      <td>15.6 [9.4 – 21.3]</td>\n",
       "      <td>19.6 [13.2 – 27.1]</td>\n",
       "      <td>19.6 [13.2 – 27.1]</td>\n",
       "      <td>Not applicable</td>\n",
       "      <td>AZN</td>\n",
       "      <td>1.2</td>\n",
       "      <td>No</td>\n",
       "      <td>0.71</td>\n",
       "    </tr>\n",
       "  </tbody>\n",
       "</table>\n",
       "</div>"
      ],
      "text/plain": [
       "      Country CigaretteSmokingPrevalence TobaccoSmokingPrevalence  \\\n",
       "7  Azerbaijan          15.6 [9.4 – 21.3]       19.6 [13.2 – 27.1]   \n",
       "\n",
       "  TobaccoUsePrevalance HealyWarningsOnSmoking MostSoldBrandCigaretteCurrency  \\\n",
       "7   19.6 [13.2 – 27.1]         Not applicable                            AZN   \n",
       "\n",
       "   MostSoldBrandCigarettePrice TreatmentInHealthFacilities  \\\n",
       "7                          1.2                          No   \n",
       "\n",
       "   MostSoldBrandCigarettePriceInUSD  \n",
       "7                              0.71  "
      ]
     },
     "execution_count": 253,
     "metadata": {},
     "output_type": "execute_result"
    }
   ],
   "source": [
    "df_18.sample()"
   ]
  },
  {
   "cell_type": "code",
   "execution_count": null,
   "metadata": {},
   "outputs": [],
   "source": [
    "# Set up the WebDriver (for Chrome)\n",
    "driver = webdriver.Chrome(executable_path='./chromedriver.exe')\n",
    "\n",
    "# Navigate to the webpage\n",
    "url = f\"https://ourworldindata.org/grapher/number-of-deaths-by-risk-factor?tab=table&time={year}\"\n",
    "driver.get(url)\n",
    "\n",
    "# Wait for the dynamic content to load (e.g., using an explicit wait)\n",
    "wait = WebDriverWait(driver, 10)\n",
    "element = wait.until(EC.presence_of_element_located((By.CSS_SELECTOR, 'tbody')))\n",
    "\n",
    "# Extract the table data\n",
    "table_data = driver.find_element(By.CSS_SELECTOR, 'tbody').text\n",
    "\n",
    "# Close the browser\n",
    "driver.quit()\n",
    "\n",
    "# Split the data into lines\n",
    "lines = table_data.split('\\n')\n",
    "\n",
    "# Create a list of dictionaries to store the data\n",
    "data_list = []\n",
    "\n",
    "for line in lines:\n",
    "    values = line.split()\n",
    "    if len(values) >= 17:  # Check if there are at least 17 values in the list\n",
    "        country_parts = []\n",
    "        numbers = []\n",
    "        for value in values:\n",
    "            if value.isalpha():\n",
    "                country_parts.append(value)\n",
    "            else:\n",
    "                numbers.append(value)\n",
    "        country = ' '.join(country_parts)  # Join the word parts to form the country name\n",
    "        deaths_by_smoking = numbers[13]  # Assuming you want the 13th value (0-based index) from the numbers\n",
    "        data_list.append({'Country': country, 'DeathsBySmoking': deaths_by_smoking})\n",
    "\n",
    "# Create a DataFrame from the list of dictionaries\n",
    "sub_df_deaths = pd.DataFrame(data_list)\n"
   ]
  },
  {
   "cell_type": "code",
   "execution_count": null,
   "metadata": {},
   "outputs": [],
   "source": [
    "# Set up the WebDriver (for Chrome)\n",
    "driver = webdriver.Chrome(executable_path='./chromedriver.exe')\n",
    "\n",
    "# Navigate to the webpage\n",
    "url = f\"https://ourworldindata.org/grapher/gdp-per-capita-maddison?tab=table&time={year}\"\n",
    "driver.get(url)\n",
    "\n",
    "# Wait for the dynamic content to load (e.g., using an explicit wait)\n",
    "wait = WebDriverWait(driver, 10)\n",
    "element = wait.until(EC.presence_of_element_located((By.CSS_SELECTOR, 'tbody')))\n",
    "\n",
    "# Extract the table data\n",
    "table_data = driver.find_element(By.CSS_SELECTOR, 'tbody').text\n",
    "\n",
    "# Close the browser\n",
    "driver.quit()\n",
    "\n",
    "# Split the data into lines\n",
    "lines = table_data.split('\\n')\n",
    "\n",
    "# Initialize lists for countries and GDP values\n",
    "countries = []\n",
    "gdp_values = []\n",
    "\n",
    "# Regular expression pattern to match GDP values with dollar signs and commas\n",
    "gdp_pattern = r'\\$([\\d,]+)'\n",
    "\n",
    "# Iterate through the lines and extract country names and GDP values. Last 21 values not valuable data because they refer to continents and general GDP\n",
    "for i in range(0, len(lines) -21, 2):\n",
    "    country = lines[i]\n",
    "    gdp_match = re.search(gdp_pattern, lines[i + 1])\n",
    "    \n",
    "    if gdp_match:\n",
    "        gdp = int(gdp_match.group(1).replace(',', ''))\n",
    "    else:\n",
    "        gdp = None\n",
    "    \n",
    "    countries.append(country)\n",
    "    gdp_values.append(gdp)\n",
    "\n",
    "# Create a DataFrame\n",
    "sub_df_gdp = pd.DataFrame({'Country': countries, 'GDPinUSD': gdp_values})"
   ]
  },
  {
   "cell_type": "code",
   "execution_count": null,
   "metadata": {},
   "outputs": [],
   "source": [
    "# Set up the WebDriver (for Chrome)\n",
    "driver = webdriver.Chrome(executable_path='./chromedriver.exe')\n",
    "\n",
    "# Navigate to the webpage\n",
    "url = f\"https://www.populationpyramid.net/population-size-per-country/{year}/\"\n",
    "driver.get(url)\n",
    "\n",
    "# Wait for the dynamic content to load (e.g., using an explicit wait)\n",
    "wait = WebDriverWait(driver, 10)\n",
    "element = wait.until(EC.presence_of_element_located((By.CSS_SELECTOR, 'tbody')))\n",
    "\n",
    "# Extract the table data\n",
    "table_data = driver.find_element(By.CSS_SELECTOR, 'tbody').text\n",
    "\n",
    "# Close the browser\n",
    "driver.quit()\n",
    "\n",
    "# Define a regular expression pattern to capture the rank, country name, and population\n",
    "pattern = re.compile(r'(\\d+)\\n(.+?)\\s([0-9,]+)')\n",
    "\n",
    "matches = re.findall(pattern, table_data)\n",
    "\n",
    "data_list = []\n",
    "\n",
    "for match in matches:\n",
    "    rank = match[0]\n",
    "    country = match[1]\n",
    "    population = match[2].replace(',', '')  # Remove commas from the population number\n",
    "    data_list.append({'Rank': rank, 'Country': country, 'Population': population})\n",
    "\n",
    "# Create a DataFrame from the list of dictionaries\n",
    "sub_df_population = pd.DataFrame(data_list)\n",
    "\n",
    "#drop rank column\n",
    "sub_df_population.drop(columns=['Rank'], inplace=True)\n"
   ]
  },
  {
   "cell_type": "code",
   "execution_count": null,
   "metadata": {},
   "outputs": [
    {
     "data": {
      "text/html": [
       "<div>\n",
       "<style scoped>\n",
       "    .dataframe tbody tr th:only-of-type {\n",
       "        vertical-align: middle;\n",
       "    }\n",
       "\n",
       "    .dataframe tbody tr th {\n",
       "        vertical-align: top;\n",
       "    }\n",
       "\n",
       "    .dataframe thead th {\n",
       "        text-align: right;\n",
       "    }\n",
       "</style>\n",
       "<table border=\"1\" class=\"dataframe\">\n",
       "  <thead>\n",
       "    <tr style=\"text-align: right;\">\n",
       "      <th></th>\n",
       "      <th>Country</th>\n",
       "      <th>DeathsBySmoking</th>\n",
       "    </tr>\n",
       "  </thead>\n",
       "  <tbody>\n",
       "    <tr>\n",
       "      <th>0</th>\n",
       "      <td>Afghanistan</td>\n",
       "      <td>9,975</td>\n",
       "    </tr>\n",
       "  </tbody>\n",
       "</table>\n",
       "</div>"
      ],
      "text/plain": [
       "       Country DeathsBySmoking\n",
       "0  Afghanistan           9,975"
      ]
     },
     "execution_count": 257,
     "metadata": {},
     "output_type": "execute_result"
    }
   ],
   "source": [
    "sub_df_deaths.sample()"
   ]
  },
  {
   "cell_type": "code",
   "execution_count": null,
   "metadata": {},
   "outputs": [
    {
     "data": {
      "text/html": [
       "<div>\n",
       "<style scoped>\n",
       "    .dataframe tbody tr th:only-of-type {\n",
       "        vertical-align: middle;\n",
       "    }\n",
       "\n",
       "    .dataframe tbody tr th {\n",
       "        vertical-align: top;\n",
       "    }\n",
       "\n",
       "    .dataframe thead th {\n",
       "        text-align: right;\n",
       "    }\n",
       "</style>\n",
       "<table border=\"1\" class=\"dataframe\">\n",
       "  <thead>\n",
       "    <tr style=\"text-align: right;\">\n",
       "      <th></th>\n",
       "      <th>Country</th>\n",
       "      <th>GDPinUSD</th>\n",
       "    </tr>\n",
       "  </thead>\n",
       "  <tbody>\n",
       "    <tr>\n",
       "      <th>59</th>\n",
       "      <td>Greece</td>\n",
       "      <td>23451</td>\n",
       "    </tr>\n",
       "  </tbody>\n",
       "</table>\n",
       "</div>"
      ],
      "text/plain": [
       "   Country  GDPinUSD\n",
       "59  Greece     23451"
      ]
     },
     "execution_count": 258,
     "metadata": {},
     "output_type": "execute_result"
    }
   ],
   "source": [
    "sub_df_gdp.sample()"
   ]
  },
  {
   "cell_type": "code",
   "execution_count": null,
   "metadata": {},
   "outputs": [
    {
     "data": {
      "text/html": [
       "<div>\n",
       "<style scoped>\n",
       "    .dataframe tbody tr th:only-of-type {\n",
       "        vertical-align: middle;\n",
       "    }\n",
       "\n",
       "    .dataframe tbody tr th {\n",
       "        vertical-align: top;\n",
       "    }\n",
       "\n",
       "    .dataframe thead th {\n",
       "        text-align: right;\n",
       "    }\n",
       "</style>\n",
       "<table border=\"1\" class=\"dataframe\">\n",
       "  <thead>\n",
       "    <tr style=\"text-align: right;\">\n",
       "      <th></th>\n",
       "      <th>Country</th>\n",
       "      <th>Population</th>\n",
       "    </tr>\n",
       "  </thead>\n",
       "  <tbody>\n",
       "    <tr>\n",
       "      <th>180</th>\n",
       "      <td>French Polynesia</td>\n",
       "      <td>297606</td>\n",
       "    </tr>\n",
       "  </tbody>\n",
       "</table>\n",
       "</div>"
      ],
      "text/plain": [
       "              Country Population\n",
       "180  French Polynesia     297606"
      ]
     },
     "execution_count": 259,
     "metadata": {},
     "output_type": "execute_result"
    }
   ],
   "source": [
    "sub_df_population.sample()"
   ]
  },
  {
   "cell_type": "code",
   "execution_count": null,
   "metadata": {},
   "outputs": [],
   "source": [
    "# Merge new information\n",
    "df_18 = df_18.merge(sub_df_deaths, on='Country', how='left')\n",
    "df_18 = df_18.merge(sub_df_gdp, on='Country', how='left')\n",
    "df_18 = df_18.merge(sub_df_population, on='Country', how='left')"
   ]
  },
  {
   "cell_type": "code",
   "execution_count": null,
   "metadata": {},
   "outputs": [
    {
     "data": {
      "text/html": [
       "<div>\n",
       "<style scoped>\n",
       "    .dataframe tbody tr th:only-of-type {\n",
       "        vertical-align: middle;\n",
       "    }\n",
       "\n",
       "    .dataframe tbody tr th {\n",
       "        vertical-align: top;\n",
       "    }\n",
       "\n",
       "    .dataframe thead th {\n",
       "        text-align: right;\n",
       "    }\n",
       "</style>\n",
       "<table border=\"1\" class=\"dataframe\">\n",
       "  <thead>\n",
       "    <tr style=\"text-align: right;\">\n",
       "      <th></th>\n",
       "      <th>Country</th>\n",
       "      <th>CigaretteSmokingPrevalence</th>\n",
       "      <th>TobaccoSmokingPrevalence</th>\n",
       "      <th>TobaccoUsePrevalance</th>\n",
       "      <th>HealyWarningsOnSmoking</th>\n",
       "      <th>MostSoldBrandCigaretteCurrency</th>\n",
       "      <th>MostSoldBrandCigarettePrice</th>\n",
       "      <th>TreatmentInHealthFacilities</th>\n",
       "      <th>MostSoldBrandCigarettePriceInUSD</th>\n",
       "      <th>DeathsBySmoking</th>\n",
       "      <th>GDPinUSD</th>\n",
       "      <th>Population</th>\n",
       "    </tr>\n",
       "  </thead>\n",
       "  <tbody>\n",
       "    <tr>\n",
       "      <th>80</th>\n",
       "      <td>Madagascar</td>\n",
       "      <td>14.7 [10.4 – 19.9]</td>\n",
       "      <td>20.6 [12.5 – 29.1]</td>\n",
       "      <td>28.9 [20.5 – 37.9]</td>\n",
       "      <td>No</td>\n",
       "      <td>MGA</td>\n",
       "      <td>NaN</td>\n",
       "      <td>Yes in some</td>\n",
       "      <td>NaN</td>\n",
       "      <td>5,312</td>\n",
       "      <td>1428.0</td>\n",
       "      <td>26846541</td>\n",
       "    </tr>\n",
       "  </tbody>\n",
       "</table>\n",
       "</div>"
      ],
      "text/plain": [
       "       Country CigaretteSmokingPrevalence TobaccoSmokingPrevalence  \\\n",
       "80  Madagascar         14.7 [10.4 – 19.9]       20.6 [12.5 – 29.1]   \n",
       "\n",
       "   TobaccoUsePrevalance HealyWarningsOnSmoking MostSoldBrandCigaretteCurrency  \\\n",
       "80   28.9 [20.5 – 37.9]                     No                            MGA   \n",
       "\n",
       "    MostSoldBrandCigarettePrice TreatmentInHealthFacilities  \\\n",
       "80                          NaN                 Yes in some   \n",
       "\n",
       "    MostSoldBrandCigarettePriceInUSD DeathsBySmoking  GDPinUSD Population  \n",
       "80                               NaN           5,312    1428.0   26846541  "
      ]
     },
     "execution_count": 261,
     "metadata": {},
     "output_type": "execute_result"
    }
   ],
   "source": [
    "df_18.sample()\n"
   ]
  },
  {
   "cell_type": "code",
   "execution_count": null,
   "metadata": {},
   "outputs": [
    {
     "data": {
      "text/plain": [
       "Country                              object\n",
       "CigaretteSmokingPrevalence           object\n",
       "TobaccoSmokingPrevalence             object\n",
       "TobaccoUsePrevalance                 object\n",
       "HealyWarningsOnSmoking               object\n",
       "MostSoldBrandCigaretteCurrency       object\n",
       "MostSoldBrandCigarettePrice         float64\n",
       "TreatmentInHealthFacilities          object\n",
       "MostSoldBrandCigarettePriceInUSD    float64\n",
       "DeathsBySmoking                      object\n",
       "GDPinUSD                            float64\n",
       "Population                           object\n",
       "dtype: object"
      ]
     },
     "execution_count": 262,
     "metadata": {},
     "output_type": "execute_result"
    }
   ],
   "source": [
    "df_18.dtypes"
   ]
  },
  {
   "cell_type": "code",
   "execution_count": null,
   "metadata": {},
   "outputs": [
    {
     "data": {
      "text/plain": [
       "Country                              0\n",
       "CigaretteSmokingPrevalence           0\n",
       "TobaccoSmokingPrevalence             0\n",
       "TobaccoUsePrevalance                 0\n",
       "HealyWarningsOnSmoking               0\n",
       "MostSoldBrandCigaretteCurrency       0\n",
       "MostSoldBrandCigarettePrice         26\n",
       "TreatmentInHealthFacilities          0\n",
       "MostSoldBrandCigarettePriceInUSD    28\n",
       "DeathsBySmoking                     12\n",
       "GDPinUSD                            26\n",
       "Population                          13\n",
       "dtype: int64"
      ]
     },
     "execution_count": 264,
     "metadata": {},
     "output_type": "execute_result"
    }
   ],
   "source": [
    "df_18.isnull().sum()"
   ]
  },
  {
   "cell_type": "code",
   "execution_count": null,
   "metadata": {},
   "outputs": [],
   "source": []
  }
 ],
 "metadata": {
  "kernelspec": {
   "display_name": "ironhack",
   "language": "python",
   "name": "python3"
  },
  "language_info": {
   "codemirror_mode": {
    "name": "ipython",
    "version": 3
   },
   "file_extension": ".py",
   "mimetype": "text/x-python",
   "name": "python",
   "nbconvert_exporter": "python",
   "pygments_lexer": "ipython3",
   "version": "3.11.5"
  }
 },
 "nbformat": 4,
 "nbformat_minor": 2
}
